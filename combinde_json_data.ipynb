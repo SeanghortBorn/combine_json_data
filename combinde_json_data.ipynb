{
 "cells": [
  {
   "cell_type": "markdown",
   "id": "8d042a97-c7a6-4951-907b-a8bad1a99b94",
   "metadata": {},
   "source": [
    "### Combinde data from different json files to create a homohone dictionary"
   ]
  },
  {
   "cell_type": "code",
   "execution_count": 1,
   "id": "fb35e05c-d36e-4f76-a049-814bbaa23fbe",
   "metadata": {},
   "outputs": [],
   "source": [
    "# Import libraries and packages\n",
    "import json"
   ]
  },
  {
   "cell_type": "code",
   "execution_count": 12,
   "id": "9cded0ac-cb73-4096-b8e1-ea2cae356927",
   "metadata": {},
   "outputs": [],
   "source": [
    "# Read data from JSON file\n",
    "def read_json(src):\n",
    "    with open(src, 'r', encoding='utf-8') as file:\n",
    "        data = json.load(file)\n",
    "        # print(data[:10])\n",
    "        return data\n",
    "\n",
    "# Read data from JSONL file\n",
    "def read_jsonl(src):\n",
    "    with open(src, 'r', encoding='utf-8') as file:\n",
    "        data = []\n",
    "        for line in file:\n",
    "            data.append(json.loads(line)) # parse each line sperately\n",
    "    return data\n",
    "\n",
    "# Save the combined data into a new JSON file\n",
    "def save_as_json(data, output_file):\n",
    "    with open(output_file, 'w', encoding='utf-8') as file:\n",
    "        json.dump(data, file, ensure_ascii=False, indent=4)\n",
    "\n",
    "# Save the combined data into a new JSONL file\n",
    "def save_as_jsonl(data, output_file):\n",
    "    with open(output_file, 'w', encoding='utf-8') as file:\n",
    "        for item in data:\n",
    "            json.dump(item, file, ensure_ascii=False)\n",
    "            file.write(\"\\n\")\n",
    "\n",
    "def combine_data(dictionary, homophone, phoneme):\n",
    "    combined_data = []\n",
    "    for i in range(len(dictionary)): # all 3 src have the same length\n",
    "    # for i in range(10): # all 3 src have the same length\n",
    "        dict_item = dictionary[i]\n",
    "        homophone_item = homophone[i]\n",
    "        phoneme_item = phoneme[i]\n",
    "        # Combine items\n",
    "        combined_item = {\n",
    "            'word': dict_item['word'],\n",
    "            'pos': dict_item['pos'],\n",
    "            'definition': dict_item['definition'],\n",
    "            'example': dict_item['example'],\n",
    "            'pro': dict_item['pro'], \n",
    "            'phoneme': phoneme_item['pronunciation'],\n",
    "        }\n",
    "\n",
    "        # Handle homophones dynamically (store all homophones as a list)\n",
    "        homophones_list = []\n",
    "        if 'homophone1' in homophone_item:\n",
    "            homophones_list.append(homophone_item['homophone1'])\n",
    "        if 'homophone2' in homophone_item:\n",
    "            homophones_list.append(homophone_item['homophone2'])\n",
    "        # Check if there are more homophone\n",
    "        homophones_list.extend(homophone_item.get('additional_homophones', []))\n",
    "\n",
    "        # Store homophones list or leave it empty if no homophones\n",
    "        combined_item['homophones'] = homophones_list\n",
    "        \n",
    "        combined_data.append(combined_item)\n",
    "    return combined_data\n",
    "\n",
    "def filter_words_with_homophones(data):\n",
    "    filtered_data = [item for item in data if item['homophones']]\n",
    "    return filtered_data"
   ]
  },
  {
   "cell_type": "code",
   "execution_count": 13,
   "id": "05974e8b-1520-4771-b6f9-6bfd627ce4b9",
   "metadata": {},
   "outputs": [],
   "source": [
    "# Input paths\n",
    "khmer_dictionary = \"data/khmer_dictionary.json\"\n",
    "word_pronunciation = \"data/word_pronunciation.jsonl\"\n",
    "homophone_list = \"data/homophone_list.json\"\n",
    "\n",
    "# Output path\n",
    "output = \"data/dictKh_with_homophones.json\"\n",
    "filtered_output  = \"data/dictKh_with_homophones_only.json\""
   ]
  },
  {
   "cell_type": "code",
   "execution_count": 9,
   "id": "5d5a6099-1f86-497f-bc84-bbbbe3438757",
   "metadata": {},
   "outputs": [],
   "source": [
    "# Combine all data to a single file\n",
    "dictionary = read_json(khmer_dictionary)\n",
    "homophones = read_json(homophone_list)\n",
    "phonemes = read_jsonl(word_pronunciation)\n",
    "# print(phonemes[:3])\n",
    "data = combine_data(dictionary, homophones, phonemes)\n",
    "save_as_json(data, output)"
   ]
  },
  {
   "cell_type": "code",
   "execution_count": 14,
   "id": "4e49f5b9-2241-4212-9476-25f57dc78bdf",
   "metadata": {},
   "outputs": [],
   "source": [
    "# Filter words with homophone only and save to a new file\n",
    "data = read_json(output)\n",
    "filtered_data = filter_words_with_homophones(read_json(output))\n",
    "save_as_json(filtered_data, filtered_output)"
   ]
  },
  {
   "cell_type": "code",
   "execution_count": null,
   "id": "c2713844-0a3c-4a0e-a384-c792543b9313",
   "metadata": {},
   "outputs": [],
   "source": []
  }
 ],
 "metadata": {
  "kernelspec": {
   "display_name": "my_lab",
   "language": "python",
   "name": "my_lab"
  },
  "language_info": {
   "codemirror_mode": {
    "name": "ipython",
    "version": 3
   },
   "file_extension": ".py",
   "mimetype": "text/x-python",
   "name": "python",
   "nbconvert_exporter": "python",
   "pygments_lexer": "ipython3",
   "version": "3.13.2"
  }
 },
 "nbformat": 4,
 "nbformat_minor": 5
}
